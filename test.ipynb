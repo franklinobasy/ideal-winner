{
 "cells": [
  {
   "cell_type": "code",
   "execution_count": 1,
   "metadata": {},
   "outputs": [],
   "source": [
    "import pandas as pd\n",
    "import boto3 \n",
    "from botocore import UNSIGNED \n",
    "from botocore.client import Config"
   ]
  },
  {
   "cell_type": "code",
   "execution_count": 2,
   "metadata": {},
   "outputs": [],
   "source": [
    "s3 = boto3.client('s3', config=Config(signature_version=UNSIGNED)) \n",
    "bucket_name = \"d2b-internal-assessment-bucket\" \n",
    "response = s3.list_objects(Bucket=bucket_name, Prefix=\"orders_data\") \n",
    "\n"
   ]
  },
  {
   "cell_type": "code",
   "execution_count": 3,
   "metadata": {},
   "outputs": [
    {
     "name": "stdout",
     "output_type": "stream",
     "text": [
      "orders_data/\n",
      "orders_data/orders.csv\n",
      "orders_data/reviews.csv\n",
      "orders_data/shipment_deliveries.csv\n"
     ]
    }
   ],
   "source": [
    "for item in response.get('Contents'):\n",
    "    print(item.get('Key'))"
   ]
  },
  {
   "cell_type": "code",
   "execution_count": 4,
   "metadata": {},
   "outputs": [],
   "source": [
    "def download_files(response, filenames):\n",
    "    for filename in filenames:\n",
    "        try:\n",
    "            s3.download_file(bucket_name, f\"orders_data/{filename}\", f\"{filename}\")\n",
    "            print(f\"{filename} downloaded!\")\n",
    "        except:\n",
    "            print(f\"Problem downloading {filename}\")\n",
    "    print(\"files download completed!\")"
   ]
  },
  {
   "cell_type": "code",
   "execution_count": 5,
   "metadata": {},
   "outputs": [
    {
     "name": "stdout",
     "output_type": "stream",
     "text": [
      "orders.csv downloaded!\n",
      "reviews.csv downloaded!\n",
      "shipment_deliveries.csv downloaded!\n",
      "files download completed!\n"
     ]
    }
   ],
   "source": [
    "filenames = ['orders.csv', 'reviews.csv', 'shipment_deliveries.csv']\n",
    "\n",
    "download_files(response, filenames)"
   ]
  },
  {
   "cell_type": "code",
   "execution_count": 6,
   "metadata": {},
   "outputs": [],
   "source": [
    "from psycopg2 import connect"
   ]
  },
  {
   "cell_type": "code",
   "execution_count": 7,
   "metadata": {},
   "outputs": [],
   "source": [
    "# Create connection\n",
    "def connection(params: dict):\n",
    "    try:\n",
    "        return connect(**params)\n",
    "    except Exception as e:\n",
    "        print(e)\n"
   ]
  },
  {
   "cell_type": "code",
   "execution_count": 8,
   "metadata": {},
   "outputs": [],
   "source": [
    "# load credentials to environment variables\n",
    "from dotenv import load_dotenv\n",
    "from os import environ\n",
    "\n",
    "if not load_dotenv(override=True):\n",
    "    print(\"No evironment variables set\")\n",
    "    exit()\n",
    "\n",
    "\n",
    "params = {\n",
    "    \"host\": environ['DB_HOST'],\n",
    "    \"database\": environ['DB_NAME'],\n",
    "    \"user\": environ['DB_USER'],\n",
    "    \"password\": environ['DB_PASSWD'],\n",
    "    \"port\": environ['DB_PORT'],\n",
    "}"
   ]
  },
  {
   "cell_type": "code",
   "execution_count": 9,
   "metadata": {},
   "outputs": [
    {
     "name": "stdout",
     "output_type": "stream",
     "text": [
      "{'host': 'd2b-internal-assessment-dwh.cxeuj0ektqdz.eu-central-1.rds.amazonaws.com', 'database': 'd2b_assessment', 'user': 'okondivi4898', 'password': 'cwlo4unWbV', 'port': '5432'}\n"
     ]
    }
   ],
   "source": [
    "print(params)"
   ]
  },
  {
   "cell_type": "code",
   "execution_count": 10,
   "metadata": {},
   "outputs": [],
   "source": [
    "conn = connection(params)\n"
   ]
  },
  {
   "cell_type": "code",
   "execution_count": 11,
   "metadata": {},
   "outputs": [],
   "source": [
    "from typing import Dict\n",
    "\n",
    "\n",
    "def load_csv_todb(conn, schema_name, csvs: Dict):\n",
    "    cursor = conn.cursor()\n",
    "    cursor.execute(f\"SET search_path TO {schema_name}\")\n",
    "\n",
    "    for item in csvs.items():\n",
    "        try:\n",
    "            table_name = item[0]\n",
    "            filepath = item[1][0]\n",
    "            columns_info = \",\".join(item[1][-1])\n",
    "            query = f'''\n",
    "                DROP TABLE IF EXISTS {table_name};\n",
    "                CREATE TABLE {table_name} ({columns_info});\n",
    "            '''\n",
    "            cursor.execute(query)\n",
    "\n",
    "            with open(filepath) as f:\n",
    "                data = f.read()\n",
    "                data = data.strip('\\n').split('\\n')[1:]\n",
    "\n",
    "            column_names = [line.split(' ')[0] for line in item[1][-1]]\n",
    "            subs = ['%s' for _ in column_names]\n",
    "            columns = ', '.join(column_names)\n",
    "            subs = ', '.join(subs)\n",
    "            for row in data:\n",
    "                row = row.strip().split(',')\n",
    "                row = tuple([_  if _ else None for _ in row ])\n",
    "                print(row)\n",
    "                query2 = f'''INSERT INTO {table_name} ({columns}) VALUES({subs});'''\n",
    "                cursor.execute(query2, row)\n",
    "            conn.commit()\n",
    "            \n",
    "        except Exception as e:\n",
    "            raise Exception(\"\".format(e))\n",
    "    \n",
    "    \n",
    "    cursor.close()\n",
    "    print(\"done\")\n",
    "\n"
   ]
  },
  {
   "cell_type": "code",
   "execution_count": null,
   "metadata": {},
   "outputs": [],
   "source": [
    "csvs = {\n",
    "    \"orders\":  [\n",
    "        r'C:\\Users\\owner\\Downloads\\DE1\\orders.csv',\n",
    "        [\n",
    "            'order_id INT NOT NULL',\n",
    "            'customer_id INT NOT NULL',\n",
    "            'order_date DATE NOT NULL',\n",
    "            'product_id INT NOT NULL',\n",
    "            'unit_price NUMERIC NOT NULL',\n",
    "            'quantity NUMERIC NOT NULL',\n",
    "            'total_price NUMERIC NOT NULL'\n",
    "        ]\n",
    "    ],\n",
    "\n",
    "    'reviews': [\n",
    "        r'C:\\Users\\owner\\Downloads\\DE1\\reviews.csv',\n",
    "        [\n",
    "            'review INT NOT NULL',\n",
    "            'product_id INT NOT NULL'\n",
    "        ]\n",
    "    ],\n",
    "\n",
    "    'shipment_deliveries': [\n",
    "        r'C:\\Users\\owner\\Downloads\\DE1\\shipment_deliveries.csv',\n",
    "        [\n",
    "            'shipment_id INT NOT NULL',\n",
    "            'order_id INT NOT NULL',\n",
    "            'shipment_date DATE',\n",
    "            'delivery_date DATE'\n",
    "        ]\n",
    "    ]\n",
    "}\n",
    "\n",
    "staging_schema = environ['STAGING_SCHEMA']\n",
    "\n",
    "load_csv_todb(conn, staging_schema, csvs)"
   ]
  },
  {
   "cell_type": "code",
   "execution_count": null,
   "metadata": {},
   "outputs": [],
   "source": [
    "'''\n",
    "1. \n",
    "'''"
   ]
  }
 ],
 "metadata": {
  "kernelspec": {
   "display_name": "base",
   "language": "python",
   "name": "python3"
  },
  "language_info": {
   "codemirror_mode": {
    "name": "ipython",
    "version": 3
   },
   "file_extension": ".py",
   "mimetype": "text/x-python",
   "name": "python",
   "nbconvert_exporter": "python",
   "pygments_lexer": "ipython3",
   "version": "3.9.7"
  },
  "orig_nbformat": 4,
  "vscode": {
   "interpreter": {
    "hash": "e6b9563c2d5f39a0f14e96863a92c28173db3617b8e00a6322a2465c297cc121"
   }
  }
 },
 "nbformat": 4,
 "nbformat_minor": 2
}
